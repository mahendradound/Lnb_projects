{
  "nbformat": 4,
  "nbformat_minor": 0,
  "metadata": {
    "colab": {
      "provenance": [],
      "authorship_tag": "ABX9TyPZFFmupUH918nrKIFkfqPQ",
      "include_colab_link": true
    },
    "kernelspec": {
      "name": "python3",
      "display_name": "Python 3"
    },
    "language_info": {
      "name": "python"
    }
  },
  "cells": [
    {
      "cell_type": "markdown",
      "metadata": {
        "id": "view-in-github",
        "colab_type": "text"
      },
      "source": [
        "<a href=\"https://colab.research.google.com/github/mahendradound/Lnb_projects/blob/main/Cnn_model_car_bike_data.ipynb\" target=\"_parent\"><img src=\"https://colab.research.google.com/assets/colab-badge.svg\" alt=\"Open In Colab\"/></a>"
      ]
    },
    {
      "cell_type": "markdown",
      "source": [
        "Import modules"
      ],
      "metadata": {
        "id": "ErBy0wmQ1mp-"
      }
    },
    {
      "cell_type": "code",
      "source": [
        "import zipfile\n",
        "from keras.preprocessing.image import ImageDataGenerator\n",
        "from keras.models import Sequential\n",
        "from keras.layers import Conv2D, MaxPooling2D, Flatten, Dense\n",
        "import tensorflow as tf"
      ],
      "metadata": {
        "id": "Br6HThmI1ljg"
      },
      "execution_count": 10,
      "outputs": []
    },
    {
      "cell_type": "markdown",
      "source": [
        "Unzip dataset"
      ],
      "metadata": {
        "id": "Fwr49C032YgO"
      }
    },
    {
      "cell_type": "code",
      "source": [
        "with zipfile.ZipFile('/content/car_bike_data.zip', 'r') as zip_ref:zip_ref.extractall()"
      ],
      "metadata": {
        "id": "JKv-Z2c22cA7"
      },
      "execution_count": 11,
      "outputs": []
    },
    {
      "cell_type": "markdown",
      "source": [
        "Define Image Data Generator with scale 1/255"
      ],
      "metadata": {
        "id": "88ISEtSj2mi4"
      }
    },
    {
      "cell_type": "code",
      "source": [
        "datagen = ImageDataGenerator(rescale=1/255)"
      ],
      "metadata": {
        "id": "gzd3jjWO226g"
      },
      "execution_count": 12,
      "outputs": []
    },
    {
      "cell_type": "markdown",
      "source": [
        "Define train test directory"
      ],
      "metadata": {
        "id": "8ZZXpDou2_xY"
      }
    },
    {
      "cell_type": "code",
      "source": [
        "train_dir = 'car_bike_data/train'\n",
        "test_dir = 'car_bike_data/test'"
      ],
      "metadata": {
        "id": "5gBOVIwR2-7y"
      },
      "execution_count": 13,
      "outputs": []
    },
    {
      "cell_type": "markdown",
      "source": [
        "Use flow from directory to generate training data"
      ],
      "metadata": {
        "id": "8AwD4PJs37s3"
      }
    },
    {
      "cell_type": "code",
      "source": [
        "tf.random.set_seed(42)\n",
        "\n",
        "train_generator = datagen.flow_from_directory(\n",
        "        train_dir,\n",
        "        target_size=(224, 224),\n",
        "        batch_size=4,\n",
        "        class_mode='binary')\n",
        "\n",
        "test_generator = datagen.flow_from_directory(\n",
        "        test_dir,\n",
        "        target_size=(224, 224),\n",
        "        batch_size=4,\n",
        "        class_mode='binary')\n"
      ],
      "metadata": {
        "id": "EvW-xepR36g_",
        "colab": {
          "base_uri": "https://localhost:8080/"
        },
        "outputId": "05f6e02e-37d3-4c07-9d94-cc08e6b96e1f"
      },
      "execution_count": 14,
      "outputs": [
        {
          "output_type": "stream",
          "name": "stdout",
          "text": [
            "Found 20 images belonging to 2 classes.\n",
            "Found 8 images belonging to 2 classes.\n"
          ]
        }
      ]
    },
    {
      "cell_type": "markdown",
      "source": [
        "prepare CNN model using sequential api"
      ],
      "metadata": {
        "id": "0U4-HHXt3mwy"
      }
    },
    {
      "cell_type": "code",
      "source": [
        "model = Sequential()\n",
        "model.add(Conv2D(10, kernel_size=3, activation='relu', input_shape=(224, 224, 3)))\n",
        "model.add(Conv2D(10, kernel_size=3, activation='relu'))\n",
        "model.add(MaxPooling2D(pool_size=(2, 2), padding='valid'))\n",
        "model.add(Flatten())\n",
        "model.add(Dense(1, activation='sigmoid'))"
      ],
      "metadata": {
        "id": "xyZlr5Mx4Rch"
      },
      "execution_count": 15,
      "outputs": []
    },
    {
      "cell_type": "markdown",
      "source": [
        "Compile the model, with metrix = accuracy"
      ],
      "metadata": {
        "id": "k2brMKPx4U8h"
      }
    },
    {
      "cell_type": "code",
      "source": [
        "model.compile(optimizer='adam', loss='binary_crossentropy', metrics=['accuracy'])"
      ],
      "metadata": {
        "id": "o2XZG7714h1m"
      },
      "execution_count": 16,
      "outputs": []
    },
    {
      "cell_type": "markdown",
      "source": [
        "Train model for 5 epochs"
      ],
      "metadata": {
        "id": "UtCeNOIo4mRr"
      }
    },
    {
      "cell_type": "code",
      "source": [
        "model.fit(train_generator, epochs=5, validation_data=test_generator)"
      ],
      "metadata": {
        "id": "WIO5ONnZ4xpw",
        "colab": {
          "base_uri": "https://localhost:8080/"
        },
        "outputId": "2eca8f34-3864-4ddd-df69-e5c245f01883"
      },
      "execution_count": 17,
      "outputs": [
        {
          "output_type": "stream",
          "name": "stdout",
          "text": [
            "Epoch 1/5\n",
            "5/5 [==============================] - 3s 475ms/step - loss: 3.7267 - accuracy: 0.6500 - val_loss: 4.4240 - val_accuracy: 0.5000\n",
            "Epoch 2/5\n",
            "5/5 [==============================] - 2s 409ms/step - loss: 2.9651 - accuracy: 0.6000 - val_loss: 2.1486 - val_accuracy: 0.5000\n",
            "Epoch 3/5\n",
            "5/5 [==============================] - 2s 411ms/step - loss: 1.5488 - accuracy: 0.6000 - val_loss: 1.2882 - val_accuracy: 0.3750\n",
            "Epoch 4/5\n",
            "5/5 [==============================] - 3s 709ms/step - loss: 0.3301 - accuracy: 0.8000 - val_loss: 1.2450 - val_accuracy: 0.5000\n",
            "Epoch 5/5\n",
            "5/5 [==============================] - 2s 398ms/step - loss: 0.2253 - accuracy: 0.9500 - val_loss: 0.8438 - val_accuracy: 0.3750\n"
          ]
        },
        {
          "output_type": "execute_result",
          "data": {
            "text/plain": [
              "<keras.callbacks.History at 0x7fdbc99751f0>"
            ]
          },
          "metadata": {},
          "execution_count": 17
        }
      ]
    },
    {
      "cell_type": "markdown",
      "source": [
        "Report the test accuracy"
      ],
      "metadata": {
        "id": "_llJoJGh4zkE"
      }
    },
    {
      "cell_type": "code",
      "execution_count": 18,
      "metadata": {
        "colab": {
          "base_uri": "https://localhost:8080/"
        },
        "id": "pUui_wI_vHwE",
        "outputId": "acac322d-6f51-4120-83fb-4b5d1fe3d914"
      },
      "outputs": [
        {
          "output_type": "stream",
          "name": "stdout",
          "text": [
            "2/2 [==============================] - 0s 188ms/step - loss: 0.8438 - accuracy: 0.3750\n",
            "Test accuracy: 0.375\n"
          ]
        }
      ],
      "source": [
        "test_loss, test_accuracy = model.evaluate(test_generator)\n",
        "print('Test accuracy:', test_accuracy)"
      ]
    }
  ]
}