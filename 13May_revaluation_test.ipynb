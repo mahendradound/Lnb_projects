{
  "nbformat": 4,
  "nbformat_minor": 0,
  "metadata": {
    "colab": {
      "provenance": [],
      "authorship_tag": "ABX9TyP3EB+QLPhV/lLLCsmZYmnc",
      "include_colab_link": true
    },
    "kernelspec": {
      "name": "python3",
      "display_name": "Python 3"
    },
    "language_info": {
      "name": "python"
    }
  },
  "cells": [
    {
      "cell_type": "markdown",
      "metadata": {
        "id": "view-in-github",
        "colab_type": "text"
      },
      "source": [
        "<a href=\"https://colab.research.google.com/github/mahendradound/Lnb_projects/blob/main/13May_revaluation_test.ipynb\" target=\"_parent\"><img src=\"https://colab.research.google.com/assets/colab-badge.svg\" alt=\"Open In Colab\"/></a>"
      ]
    },
    {
      "cell_type": "markdown",
      "source": [
        "Problem Statement #1:\n",
        "You have been provided with a dataset containing information about the COVID-19 pandemic in\n",
        "various countries. Your task is to perform exploratory data analysis, feature engineering, model\n",
        "selection and tuning to create a model that predicts the number of COVID-19 cases in a given\n",
        "country.\n",
        "Data Description:\n",
        "The dataset contains the following columns:\n",
        "Country_Region: The name of the country or region\n",
        "Date: The date on which the data was collected\n",
        "ConfirmedCases: The total number of confirmed COVID-19 cases in the country or region on\n",
        "the given date\n",
        "Fatalities: The total number of deaths due to COVID-19 in the country or region on the given\n",
        "date\n",
        "You can download the dataset from this link:\n",
        "https://www.kaggle.com/c/covid19-global-forecasting-week-5/data\n",
        "\n",
        "Task 1: Exploratory Data Analysis\n",
        "Perform exploratory data analysis on the dataset and answer the following questions:\n",
        "A. Which country or region has the highest number of confirmed COVID-19 cases?\n",
        "B. Which country or region has the highest number of deaths due to COVID-19?\n",
        "C. Which country or region has the highest number of recovered COVID-19 cases?\n",
        "\n",
        "Task 2: Feature Engineering\n",
        "Create new features from the existing data that might be useful for predicting the number of\n",
        "COVID-19 cases. You can use any techniques of your choice such as time series\n",
        "decomposition, moving averages, lag features, etc.\n",
        "\n",
        "Task 3: Model Selection and Tuning\n",
        "Select an appropriate machine learning algorithm for the problem and train a model on the\n",
        "dataset. You can use any machine learning algorithm of your choice. Your model should take\n",
        "the following inputs:\n",
        "● Country_Region: The name of the country or region for which the prediction is to be\n",
        "made\n",
        "● Date: The date for which the prediction is to be made\n",
        "● The features you created in Task 2\n",
        "● Your model should output the predicted number of COVID-19 cases and fatalities for the\n",
        "given country or region and date.\n",
        "Evaluate your model using appropriate evaluation metrics and tune it for better performance.\n",
        "\n",
        "Task 4: Deployment\n",
        "Deploy your model to a web application or a REST API so that it can be used to make\n",
        "predictions on new data.\n",
        "Evaluation:\n",
        "Your submission will be evaluated on the following criteria:\n",
        "Correctness and quality of the exploratory data analysis and feature engineering\n",
        "Accuracy of the model predictions\n",
        "Quality of the code and documentation\n",
        "Clarity and completeness of the model deployment instructions"
      ],
      "metadata": {
        "id": "KuL6lfnNTQE0"
      }
    },
    {
      "cell_type": "code",
      "source": [
        "#not able to download dataset "
      ],
      "metadata": {
        "id": "6cnS13ZARqYy"
      },
      "execution_count": 49,
      "outputs": []
    },
    {
      "cell_type": "markdown",
      "source": [
        "Question 4: Problem #4:\n",
        "A company wants to improve its customer service by identifying the most common issues that\n",
        "customers are facing and addressing them proactively. The company has a large database of\n",
        "customer support tickets, but it is difficult to manually analyze each ticket and identify the\n",
        "underlying issue.\n",
        "Explain your approach to help the company to automatically categorize the support tickets\n",
        "based on their underlying issues and prioritize them for resolution given the support tickets are\n",
        "raised via emails only.\n"
      ],
      "metadata": {
        "id": "V9cgKS2KZBhP"
      }
    },
    {
      "cell_type": "markdown",
      "source": [
        "Ans: There are multipe approach for this probleam,\n",
        "such as automatically categorize these tickets and prioritize them for resolution.\n",
        "steps we can use:\n",
        "1.preprocess the data:\n",
        "a)extract relevant information from the emails, such as the subject,body,sender and date.\n",
        "b)clean and normalize the text by removing stop words, punctation and most important irrelevant information such as email signature or promotional message\n",
        "c)tokenize and vectorize the text using techniques such as word embedding.\n",
        "\n",
        "2.By training the  machine learning models:\n",
        "a)use a supervised learninig algoritham such as decision tree, logistic regression or we can say suport vector to lean from a labled dataset of support tickets and their coreesponding categoies\n",
        "b)Divide the dataset into training and testing sets and evaluate the performance of the model using metric such as accuracy, precision,recal and F1 score.\n",
        "c)by finetuning the model hyperparameters using techniques such as cross validation or grid search\n",
        "\n",
        "3.Apply the model to new support tickets:\n",
        "a)use the trained model to predict the category of new support ticktes bases on thier text feature\n",
        "b)prioritize the ticktes bases on their predicted categories and urgency, such as the severity of the issues or the customer satisfaction level\n",
        "c)provide feedback to the model by continuously updating the dataset with new support ticktes and their categories retraining the model periodically to improve its accuracy and generalization\n",
        "\n",
        "and another most important things is in this approach may required significant computational resources and expertise in natural language processing, machine leaning and data enginering.\n"
      ],
      "metadata": {
        "id": "Qpz92eG1ZURU"
      }
    },
    {
      "cell_type": "code",
      "source": [],
      "metadata": {
        "id": "jwRbzpE2Zpnh"
      },
      "execution_count": null,
      "outputs": []
    },
    {
      "cell_type": "markdown",
      "source": [
        "Problem #5:\n",
        "a. Write a Python function that implements a binary search algorithm. The function should take in two arguments:a sorted list of integers and a target integer to search for. The\n",
        "function should return the index of the target integer in the list, or -1 if the target is not\n",
        "present in the list. Your function should not use any built-in search functions\n",
        "\n",
        "b. Given a string s, find the first non-repeating character in it and return its index. If it does\n",
        "not exist, return -1.\n",
        "Example 1:\n",
        "Input: s = \"learning\"\n",
        "Output: 1\n",
        "Example 2:\n",
        "Input: s = \"TechieNest\"\n",
        "Output: 2\n",
        "Example 3:\n",
        "Input: s = \"aabb\"\n",
        "Output: -1\n",
        "Constraints:\n",
        "1 <= s.length <= 10^5\n",
        "s consists of only lowercase English letters.\n",
        "\n",
        "c. Write a simple python program to find elements which are present in the second list but\n",
        "not in the first. Do not use any in-built function"
      ],
      "metadata": {
        "id": "wbPW8d2Be6Ov"
      }
    },
    {
      "cell_type": "markdown",
      "source": [
        "A)Ans"
      ],
      "metadata": {
        "id": "Bg3KL3kXtqPg"
      }
    },
    {
      "cell_type": "code",
      "source": [
        "def binary_search(arr, target):\n",
        "  left = 0\n",
        "  right = len(arr) - 1\n",
        "\n",
        "  while left <=right:\n",
        "    mid = (left + right) // 2\n",
        "    if arr[mid] == target:\n",
        "      return mid\n",
        "    elif arr[mid] < target:\n",
        "      left = mid + 1\n",
        "    else:\n",
        "      right = mid -1\n",
        "  return -1"
      ],
      "metadata": {
        "id": "FhFJo_13fHLn"
      },
      "execution_count": 3,
      "outputs": []
    },
    {
      "cell_type": "code",
      "source": [
        "y =binary_search('Revaluation','o')\n",
        "print(y)"
      ],
      "metadata": {
        "colab": {
          "base_uri": "https://localhost:8080/"
        },
        "id": "xIep6uhgi33u",
        "outputId": "603621c9-1054-4516-fd3c-e903ae70ef44"
      },
      "execution_count": 9,
      "outputs": [
        {
          "output_type": "stream",
          "name": "stdout",
          "text": [
            "-1\n"
          ]
        }
      ]
    },
    {
      "cell_type": "markdown",
      "source": [
        "B) Ans"
      ],
      "metadata": {
        "id": "B4XqXB6Ytt-1"
      }
    },
    {
      "cell_type": "code",
      "source": [
        "def first_nonrepeating_char(s):\n",
        "  if len(s) <1 or len(s) > 10**5:\n",
        "    return -1\n",
        "\n",
        "  char_count ={}\n",
        "  for i in range(len(s)):\n",
        "    if s[i] in char_count:\n",
        "      char_count[s[i]] +=1\n",
        "    else:\n",
        "      char_count[s[i]] = 1\n",
        "\n",
        "  print(\"char_count:\", char_count)\n",
        "\n",
        "  for i in range(len(s)):\n",
        "    if char_count[s[i]] ==1:\n",
        "      return i\n",
        "\n",
        "  return -1"
      ],
      "metadata": {
        "id": "XXwgH6S6kRiw"
      },
      "execution_count": 42,
      "outputs": []
    },
    {
      "cell_type": "code",
      "source": [
        "s1= 'learning'\n",
        "print(first_nonrepeating_char(s1))"
      ],
      "metadata": {
        "colab": {
          "base_uri": "https://localhost:8080/"
        },
        "id": "AoVQSPWam8tq",
        "outputId": "4925ba0e-bd0c-4735-9958-9d20cda83ed7"
      },
      "execution_count": 43,
      "outputs": [
        {
          "output_type": "stream",
          "name": "stdout",
          "text": [
            "char_count: {'l': 1, 'e': 1, 'a': 1, 'r': 1, 'n': 2, 'i': 1, 'g': 1}\n",
            "0\n"
          ]
        }
      ]
    },
    {
      "cell_type": "code",
      "source": [
        "X1= \"techieNest\"\n",
        "print(first_nonrepeating_char(X1))"
      ],
      "metadata": {
        "colab": {
          "base_uri": "https://localhost:8080/"
        },
        "outputId": "1b5fdd93-a6e5-444f-d81d-b0fd8ba6ee9c",
        "id": "xzu-WI2yocRt"
      },
      "execution_count": 45,
      "outputs": [
        {
          "output_type": "stream",
          "name": "stdout",
          "text": [
            "char_count: {'t': 2, 'e': 3, 'c': 1, 'h': 1, 'i': 1, 'N': 1, 's': 1}\n",
            "2\n"
          ]
        }
      ]
    },
    {
      "cell_type": "markdown",
      "source": [
        "C) Ans"
      ],
      "metadata": {
        "id": "1UFGQxeMtxp2"
      }
    },
    {
      "cell_type": "code",
      "source": [
        "def find_missing_elements(lst1, lst2):\n",
        "  missing_elements = []\n",
        "  for elem in lst2:\n",
        "    if elem not in lst1:\n",
        "      missing_elements.append(elem)\n",
        "  return missing_elements"
      ],
      "metadata": {
        "id": "ddx0mMW-t0eV"
      },
      "execution_count": 57,
      "outputs": []
    },
    {
      "cell_type": "code",
      "source": [
        "list1 = [1,2,3,4,5]\n",
        "list2 = [1,2,3]\n",
        "missing_elements = find_missing_elements(list1,list2)\n",
        "print(missing_elements)"
      ],
      "metadata": {
        "colab": {
          "base_uri": "https://localhost:8080/"
        },
        "id": "VBj4HJ7TuXNH",
        "outputId": "ff16b42f-5643-428c-ec74-5a5335033aa0"
      },
      "execution_count": 58,
      "outputs": [
        {
          "output_type": "stream",
          "name": "stdout",
          "text": [
            "[]\n"
          ]
        }
      ]
    }
  ]
}