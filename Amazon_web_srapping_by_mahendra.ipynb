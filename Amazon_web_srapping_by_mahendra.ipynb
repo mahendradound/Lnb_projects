{
  "nbformat": 4,
  "nbformat_minor": 0,
  "metadata": {
    "colab": {
      "provenance": []
    },
    "kernelspec": {
      "name": "python3",
      "display_name": "Python 3"
    },
    "language_info": {
      "name": "python"
    }
  },
  "cells": [
    {
      "cell_type": "code",
      "source": [
        "import requests\n",
        "from bs4 import BeautifulSoup\n",
        "import pandas as pd"
      ],
      "metadata": {
        "id": "WoHGS13iMxhU"
      },
      "execution_count": 128,
      "outputs": []
    },
    {
      "cell_type": "code",
      "source": [
        "URL = 'https://www.amazon.in/Samsung-Phantom-Storage-Additional-Exchange/product-reviews/B09SH8JPCJ/ref=cm_cr_dp_d_show_all_btm?ie=UTF8&reviewerType=all_reviews'\n",
        "r = requests.get(URL)\n",
        "soup = BeautifulSoup(r.content,'html5lib')\n",
        "Name = soup.find_all('span', class_=\"a-profile-name\")\n",
        "Name"
      ],
      "metadata": {
        "colab": {
          "base_uri": "https://localhost:8080/"
        },
        "id": "aHVZWFX1OTrY",
        "outputId": "4185bb98-110d-45b6-d71e-128bbd02edef"
      },
      "execution_count": 129,
      "outputs": [
        {
          "output_type": "execute_result",
          "data": {
            "text/plain": [
              "[<span class=\"a-profile-name\">Antony Joseph</span>,\n",
              " <span class=\"a-profile-name\">Abhishek</span>,\n",
              " <span class=\"a-profile-name\">Antony Joseph</span>,\n",
              " <span class=\"a-profile-name\">Sarang</span>,\n",
              " <span class=\"a-profile-name\">Sarang</span>,\n",
              " <span class=\"a-profile-name\">Shibasish Saha</span>,\n",
              " <span class=\"a-profile-name\">Hritwick jain</span>,\n",
              " <span class=\"a-profile-name\">Rahul</span>,\n",
              " <span class=\"a-profile-name\">Rahul</span>,\n",
              " <span class=\"a-profile-name\">Manik</span>,\n",
              " <span class=\"a-profile-name\">Ankit</span>,\n",
              " <span class=\"a-profile-name\">Joydeep Nath</span>,\n",
              " <span class=\"a-profile-name\">Simple Writer</span>,\n",
              " <span class=\"a-profile-name\">unnikrishnan</span>,\n",
              " <span class=\"a-profile-name\">unnikrishnan</span>]"
            ]
          },
          "metadata": {},
          "execution_count": 129
        }
      ]
    },
    {
      "cell_type": "code",
      "source": [
        "costumer_name = []\n",
        "for i in range (0,10):\n",
        "  costumer_name.append(Name[i].get_text())\n",
        "costumer_name"
      ],
      "metadata": {
        "colab": {
          "base_uri": "https://localhost:8080/"
        },
        "id": "3Qn76kRViRWR",
        "outputId": "2735336e-245d-4b74-87b9-690b5e739bd0"
      },
      "execution_count": 130,
      "outputs": [
        {
          "output_type": "execute_result",
          "data": {
            "text/plain": [
              "['Antony Joseph',\n",
              " 'Abhishek',\n",
              " 'Antony Joseph',\n",
              " 'Sarang',\n",
              " 'Sarang',\n",
              " 'Shibasish Saha',\n",
              " 'Hritwick jain',\n",
              " 'Rahul',\n",
              " 'Rahul',\n",
              " 'Manik']"
            ]
          },
          "metadata": {},
          "execution_count": 130
        }
      ]
    },
    {
      "cell_type": "code",
      "source": [
        "titles = soup.find_all('a', class_=\"a-size-base a-link-normal review-title a-color-base review-title-content a-text-bold\")\n",
        "titles"
      ],
      "metadata": {
        "colab": {
          "base_uri": "https://localhost:8080/"
        },
        "id": "wED_zCiDnI_1",
        "outputId": "7ae8865d-298d-4483-9bce-d207401e7371"
      },
      "execution_count": 131,
      "outputs": [
        {
          "output_type": "execute_result",
          "data": {
            "text/plain": [
              "[<a class=\"a-size-base a-link-normal review-title a-color-base review-title-content a-text-bold\" data-hook=\"review-title\" href=\"/gp/customer-reviews/R14015SB7I77KC?ASIN=B09SH8JPCJ\">\n",
              " \n",
              " \n",
              " \n",
              " \n",
              " \n",
              " \n",
              " \n",
              "   \n",
              "   \n",
              "     <span>Good except for battery</span>\n",
              "   \n",
              " </a>,\n",
              " <a class=\"a-size-base a-link-normal review-title a-color-base review-title-content a-text-bold\" data-hook=\"review-title\" href=\"/gp/customer-reviews/R1HG6IKBQUN15L?ASIN=B09SH8JPCJ\">\n",
              " \n",
              " \n",
              " \n",
              " \n",
              " \n",
              " \n",
              " \n",
              "   \n",
              "   \n",
              "     <span>Camera Flagship that need battery improvement</span>\n",
              "   \n",
              " </a>,\n",
              " <a class=\"a-size-base a-link-normal review-title a-color-base review-title-content a-text-bold\" data-hook=\"review-title\" href=\"/gp/customer-reviews/R1Z5CI1V9TQVGF?ASIN=B09SH8JPCJ\">\n",
              " \n",
              " \n",
              " \n",
              " \n",
              " \n",
              " \n",
              " \n",
              "   \n",
              "   \n",
              "     <span>Overall 3 out of 5</span>\n",
              "   \n",
              " </a>,\n",
              " <a class=\"a-size-base a-link-normal review-title a-color-base review-title-content a-text-bold\" data-hook=\"review-title\" href=\"/gp/customer-reviews/R3B122H601TCJJ?ASIN=B09SH8JPCJ\">\n",
              " \n",
              " \n",
              " \n",
              " \n",
              " \n",
              " \n",
              " \n",
              "   \n",
              "   \n",
              "     <span>S22&gt;13pro</span>\n",
              "   \n",
              " </a>,\n",
              " <a class=\"a-size-base a-link-normal review-title a-color-base review-title-content a-text-bold\" data-hook=\"review-title\" href=\"/gp/customer-reviews/R12DNZI53B204V?ASIN=B09SH8JPCJ\">\n",
              " \n",
              " \n",
              " \n",
              " \n",
              " \n",
              " \n",
              " \n",
              "   \n",
              "   \n",
              "     <span>Little champ !!</span>\n",
              "   \n",
              " </a>,\n",
              " <a class=\"a-size-base a-link-normal review-title a-color-base review-title-content a-text-bold\" data-hook=\"review-title\" href=\"/gp/customer-reviews/RLISP9YJF5MG6?ASIN=B09SH8JPCJ\">\n",
              " \n",
              " \n",
              " \n",
              " \n",
              " \n",
              " \n",
              " \n",
              "   \n",
              "   \n",
              "     <span>Superb phone but a little low battery life.</span>\n",
              "   \n",
              " </a>,\n",
              " <a class=\"a-size-base a-link-normal review-title a-color-base review-title-content a-text-bold\" data-hook=\"review-title\" href=\"/gp/customer-reviews/R3MRP2PQ2LDLVF?ASIN=B09SH8JPCJ\">\n",
              " \n",
              " \n",
              " \n",
              " \n",
              " \n",
              " \n",
              " \n",
              "   \n",
              "   \n",
              "     <span>Worst battery but still better than iphone</span>\n",
              "   \n",
              " </a>,\n",
              " <a class=\"a-size-base a-link-normal review-title a-color-base review-title-content a-text-bold\" data-hook=\"review-title\" href=\"/gp/customer-reviews/R3A6W8SGICR55L?ASIN=B09SH8JPCJ\">\n",
              " \n",
              " \n",
              " \n",
              " \n",
              " \n",
              " \n",
              " \n",
              "   \n",
              "   \n",
              "     <span>Great Phone ( Not for gaming though \"battery and heating\")</span>\n",
              "   \n",
              " </a>,\n",
              " <a class=\"a-size-base a-link-normal review-title a-color-base review-title-content a-text-bold\" data-hook=\"review-title\" href=\"/gp/customer-reviews/R1JLRM0XLP1L26?ASIN=B09SH8JPCJ\">\n",
              " \n",
              " \n",
              " \n",
              " \n",
              " \n",
              " \n",
              " \n",
              "   \n",
              "   \n",
              "     <span>Handy and Lighting Fast</span>\n",
              "   \n",
              " </a>,\n",
              " <a class=\"a-size-base a-link-normal review-title a-color-base review-title-content a-text-bold\" data-hook=\"review-title\" href=\"/gp/customer-reviews/R3GJ0F82MHBOLR?ASIN=B09SH8JPCJ\">\n",
              " \n",
              " \n",
              " \n",
              " \n",
              " \n",
              " \n",
              " \n",
              "   \n",
              "   \n",
              "     <span>WOWWWWW</span>\n",
              "   \n",
              " </a>]"
            ]
          },
          "metadata": {},
          "execution_count": 131
        }
      ]
    },
    {
      "cell_type": "code",
      "source": [
        "review_titles = []\n",
        "for i in range (0,len(titles)):\n",
        "  review_titles.append(titles[i].get_text())\n",
        "review_titles"
      ],
      "metadata": {
        "colab": {
          "base_uri": "https://localhost:8080/"
        },
        "id": "1Y-SVU0vn1cB",
        "outputId": "d05107f8-b789-43d5-d38b-c52fb4bb0870"
      },
      "execution_count": 132,
      "outputs": [
        {
          "output_type": "execute_result",
          "data": {
            "text/plain": [
              "['\\n\\n\\n\\n\\n\\n\\n\\n  \\n  \\n    Good except for battery\\n  \\n',\n",
              " '\\n\\n\\n\\n\\n\\n\\n\\n  \\n  \\n    Camera Flagship that need battery improvement\\n  \\n',\n",
              " '\\n\\n\\n\\n\\n\\n\\n\\n  \\n  \\n    Overall 3 out of 5\\n  \\n',\n",
              " '\\n\\n\\n\\n\\n\\n\\n\\n  \\n  \\n    S22>13pro\\n  \\n',\n",
              " '\\n\\n\\n\\n\\n\\n\\n\\n  \\n  \\n    Little champ !!\\n  \\n',\n",
              " '\\n\\n\\n\\n\\n\\n\\n\\n  \\n  \\n    Superb phone but a little low battery life.\\n  \\n',\n",
              " '\\n\\n\\n\\n\\n\\n\\n\\n  \\n  \\n    Worst battery but still better than iphone\\n  \\n',\n",
              " '\\n\\n\\n\\n\\n\\n\\n\\n  \\n  \\n    Great Phone ( Not for gaming though \"battery and heating\")\\n  \\n',\n",
              " '\\n\\n\\n\\n\\n\\n\\n\\n  \\n  \\n    Handy and Lighting Fast\\n  \\n',\n",
              " '\\n\\n\\n\\n\\n\\n\\n\\n  \\n  \\n    WOWWWWW\\n  \\n']"
            ]
          },
          "metadata": {},
          "execution_count": 132
        }
      ]
    },
    {
      "cell_type": "code",
      "source": [
        "review_titles[:] = [titles.lstrip(\"\\n\") for titles in review_titles]\n",
        "review_titles"
      ],
      "metadata": {
        "colab": {
          "base_uri": "https://localhost:8080/"
        },
        "id": "B-6myrC7qAZl",
        "outputId": "b147b29f-6310-4373-db49-a003fbc8a0bb"
      },
      "execution_count": 133,
      "outputs": [
        {
          "output_type": "execute_result",
          "data": {
            "text/plain": [
              "['  \\n  \\n    Good except for battery\\n  \\n',\n",
              " '  \\n  \\n    Camera Flagship that need battery improvement\\n  \\n',\n",
              " '  \\n  \\n    Overall 3 out of 5\\n  \\n',\n",
              " '  \\n  \\n    S22>13pro\\n  \\n',\n",
              " '  \\n  \\n    Little champ !!\\n  \\n',\n",
              " '  \\n  \\n    Superb phone but a little low battery life.\\n  \\n',\n",
              " '  \\n  \\n    Worst battery but still better than iphone\\n  \\n',\n",
              " '  \\n  \\n    Great Phone ( Not for gaming though \"battery and heating\")\\n  \\n',\n",
              " '  \\n  \\n    Handy and Lighting Fast\\n  \\n',\n",
              " '  \\n  \\n    WOWWWWW\\n  \\n']"
            ]
          },
          "metadata": {},
          "execution_count": 133
        }
      ]
    },
    {
      "cell_type": "code",
      "source": [
        "review_titles[:] = [titles.rstrip('\\n') for titles in review_titles]\n",
        "review_titles"
      ],
      "metadata": {
        "colab": {
          "base_uri": "https://localhost:8080/"
        },
        "id": "3l_sSX2vq_1C",
        "outputId": "638b60c4-0884-47cc-b8d6-75a2b0e21006"
      },
      "execution_count": 134,
      "outputs": [
        {
          "output_type": "execute_result",
          "data": {
            "text/plain": [
              "['  \\n  \\n    Good except for battery\\n  ',\n",
              " '  \\n  \\n    Camera Flagship that need battery improvement\\n  ',\n",
              " '  \\n  \\n    Overall 3 out of 5\\n  ',\n",
              " '  \\n  \\n    S22>13pro\\n  ',\n",
              " '  \\n  \\n    Little champ !!\\n  ',\n",
              " '  \\n  \\n    Superb phone but a little low battery life.\\n  ',\n",
              " '  \\n  \\n    Worst battery but still better than iphone\\n  ',\n",
              " '  \\n  \\n    Great Phone ( Not for gaming though \"battery and heating\")\\n  ',\n",
              " '  \\n  \\n    Handy and Lighting Fast\\n  ',\n",
              " '  \\n  \\n    WOWWWWW\\n  ']"
            ]
          },
          "metadata": {},
          "execution_count": 134
        }
      ]
    },
    {
      "cell_type": "code",
      "source": [
        "rating = soup.find_all('i',class_='review-rating')\n",
        "rating"
      ],
      "metadata": {
        "colab": {
          "base_uri": "https://localhost:8080/"
        },
        "id": "5OyyGA1AsBTU",
        "outputId": "168649f8-7813-49eb-8367-7a15339a8792"
      },
      "execution_count": 135,
      "outputs": [
        {
          "output_type": "execute_result",
          "data": {
            "text/plain": [
              "[<i class=\"a-icon a-icon-star a-star-4 review-rating\" data-hook=\"review-star-rating-view-point\"><span class=\"a-icon-alt\">4.0 out of 5 stars</span></i>,\n",
              " <i class=\"a-icon a-icon-star a-star-3 review-rating\" data-hook=\"review-star-rating-view-point\"><span class=\"a-icon-alt\">3.0 out of 5 stars</span></i>,\n",
              " <i class=\"a-icon a-icon-star a-star-4 review-rating\" data-hook=\"review-star-rating\"><span class=\"a-icon-alt\">4.0 out of 5 stars</span></i>,\n",
              " <i class=\"a-icon a-icon-star a-star-4 review-rating\" data-hook=\"review-star-rating\"><span class=\"a-icon-alt\">4.0 out of 5 stars</span></i>,\n",
              " <i class=\"a-icon a-icon-star a-star-4 review-rating\" data-hook=\"review-star-rating\"><span class=\"a-icon-alt\">4.0 out of 5 stars</span></i>,\n",
              " <i class=\"a-icon a-icon-star a-star-5 review-rating\" data-hook=\"review-star-rating\"><span class=\"a-icon-alt\">5.0 out of 5 stars</span></i>,\n",
              " <i class=\"a-icon a-icon-star a-star-4 review-rating\" data-hook=\"review-star-rating\"><span class=\"a-icon-alt\">4.0 out of 5 stars</span></i>,\n",
              " <i class=\"a-icon a-icon-star a-star-4 review-rating\" data-hook=\"review-star-rating\"><span class=\"a-icon-alt\">4.0 out of 5 stars</span></i>,\n",
              " <i class=\"a-icon a-icon-star a-star-4 review-rating\" data-hook=\"review-star-rating\"><span class=\"a-icon-alt\">4.0 out of 5 stars</span></i>,\n",
              " <i class=\"a-icon a-icon-star a-star-4 review-rating\" data-hook=\"review-star-rating\"><span class=\"a-icon-alt\">4.0 out of 5 stars</span></i>,\n",
              " <i class=\"a-icon a-icon-star a-star-4 review-rating\" data-hook=\"review-star-rating\"><span class=\"a-icon-alt\">4.0 out of 5 stars</span></i>,\n",
              " <i class=\"a-icon a-icon-star a-star-4 review-rating\" data-hook=\"review-star-rating\"><span class=\"a-icon-alt\">4.0 out of 5 stars</span></i>]"
            ]
          },
          "metadata": {},
          "execution_count": 135
        }
      ]
    },
    {
      "cell_type": "code",
      "source": [
        "rate = []\n",
        "for i in range(0,len(rating)):\n",
        "    rate.append(rating[i].get_text())\n",
        "del rate[:2]\n",
        "rate"
      ],
      "metadata": {
        "colab": {
          "base_uri": "https://localhost:8080/"
        },
        "id": "o6X-IuQEkTmA",
        "outputId": "01bf24c9-66c9-4851-a18c-00b86274ce09"
      },
      "execution_count": 136,
      "outputs": [
        {
          "output_type": "execute_result",
          "data": {
            "text/plain": [
              "['4.0 out of 5 stars',\n",
              " '4.0 out of 5 stars',\n",
              " '4.0 out of 5 stars',\n",
              " '5.0 out of 5 stars',\n",
              " '4.0 out of 5 stars',\n",
              " '4.0 out of 5 stars',\n",
              " '4.0 out of 5 stars',\n",
              " '4.0 out of 5 stars',\n",
              " '4.0 out of 5 stars',\n",
              " '4.0 out of 5 stars']"
            ]
          },
          "metadata": {},
          "execution_count": 136
        }
      ]
    },
    {
      "cell_type": "code",
      "source": [
        "review = soup.find_all(\"span\",{\"data-hook\":\"review-body\"})\n",
        "review"
      ],
      "metadata": {
        "colab": {
          "base_uri": "https://localhost:8080/"
        },
        "id": "6DcLV388kfr5",
        "outputId": "a37e98a6-741a-478c-ac69-d4a81d2a957d"
      },
      "execution_count": 137,
      "outputs": [
        {
          "output_type": "execute_result",
          "data": {
            "text/plain": [
              "[<span class=\"a-size-base review-text review-text-content\" data-hook=\"review-body\">\n",
              " \n",
              " \n",
              " \n",
              " \n",
              " \n",
              " \n",
              " \n",
              "   \n",
              "   \n",
              "     <span>Camera quality is very good; battery life is very poor.</span>\n",
              "   \n",
              " </span>,\n",
              " <span class=\"a-size-base review-text review-text-content\" data-hook=\"review-body\"><div class=\"a-section a-spacing-small a-spacing-top-mini video-block\" id=\"video-block-R1HG6IKBQUN15L\">\n",
              " \n",
              " \n",
              " \n",
              " \n",
              " \n",
              " \n",
              " \n",
              " \n",
              " \n",
              " \n",
              " \n",
              " \n",
              " \n",
              " \n",
              " \n",
              " \n",
              " \n",
              " \n",
              "     \n",
              "         \n",
              " \n",
              "         \n",
              "         \n",
              "             \n",
              "         \n",
              " \n",
              "         \n",
              "             \n",
              "                 <div class=\"cr-video-desktop cr-video-desktop-placeholder\" data-closed-captions=\"en,https://m.media-amazon.com/images/S/vse-vms-closed-captions-artifact-eu-west-1-prod/closedCaptions/667de119-2ea1-4377-9661-206068481cc6.vtt\" data-review-id=\"R1HG6IKBQUN15L\" data-thumbnail-url=\"https://m.media-amazon.com/images/W/IMAGERENDERING_521856-T1/images/I/61bEmN2-u+L._SY256._SY256.jpg\" data-video-url=\"https://m.media-amazon.com/images/S/vse-vms-transcoding-artifact-eu-west-1-prod/5915e7b9-a48e-48c0-830f-e09584f66f15/default.jobtemplate.hls.m3u8\" id=\"review-video-id-R1HG6IKBQUN15L\">\n",
              "                         <div class=\"cr-media-status-container\">\n",
              "                 <span class=\"a-spinner a-spinner-medium cr-media-spinner\"></span>\n",
              "                 <span class=\"a-color-inverse cr-media-error-msg\">\n",
              "                     The media could not be loaded.\n",
              "                 </span>\n",
              "             </div>\n",
              "                 </div>\n",
              "             \n",
              "             \n",
              "         \n",
              "     \n",
              "     \n",
              " </div><input class=\"video-url\" name=\"\" type=\"hidden\" value=\"https://m.media-amazon.com/images/S/vse-vms-transcoding-artifact-eu-west-1-prod/5915e7b9-a48e-48c0-830f-e09584f66f15/default.jobtemplate.mp4.480.mp4\"/><input class=\"video-slate-img-url\" name=\"\" type=\"hidden\" value=\"https://m.media-amazon.com/images/W/IMAGERENDERING_521856-T1/images/I/61bEmN2-u+L._SY256._SY256.jpg\"/>\n",
              " \n",
              " \n",
              " \n",
              " \n",
              " \n",
              " \n",
              " \n",
              "   \n",
              "   \n",
              "     <span> I bought this phone in sale in October-22, mainly for camera &amp; it's compactness. It's camera &amp; especially night camera performance is of top notch, similar to iphone 13. I have uploaded the samples. All three cameras &amp; front cam has night mode. OIS is great &amp; works at FHD 30/60 Fps on main &amp; ultra wide cam. You can shoot from 720p to 8k in various cameras. Portrait pics come awesome in all cameras. Colour reproduction is very natural.<br/><br/>Performance wise it's a good phone but SD 8 Gen1 still lags behind apple's Bionic A15 in numbers. Well you have to shell out additional 15k for iphone 13.<br/><br/>One thing that Samsung is still lagging behind many brands is bettery performance. I'm not a gamer, but on regular screen time this phone gives ~5 hrs continuous &amp; 5-8 hours intermittent usage depends on how you use it. 'Always-on-display' reduce battery life. Samsung has provided app sleep system for reducing battery drain by background app, which works great.<br/><br/>Charger that I use is of PD 3.0 standard by Dr. Vaku, which work great. Still take one hour (15 to 85 %) to juice-up.<br/><br/>In-display Fingerprint sensor here is ultrasonic, which does not work easily with tempered glass based screen protector. One has to press little harder. Dirty &amp; dry fingers are of no use. 4 out of 5 times I have to use passcode. But face unlock is very faster, so I use it.<br/><br/>Android 13 &amp; UI-5 is awesome. Many features like popup &amp; multi screens etc can be used at a time without any lag. Once I played Asphalt 9 Legends, game went on smoothly on Auto settings. Minor temperature rise observed.<br/><br/>February 2023 update : Now since 5G is available in my area, I tried jio 5g (SA 3700 Mhz spectrum) and speeds are astonishing, in 500+ Mbps.<br/><br/>Verdict : Go for it if you are looking for compact flagship camera phone in 50k range.</span>\n",
              "   \n",
              " </span>,\n",
              " <span class=\"a-size-base review-text review-text-content\" data-hook=\"review-body\">\n",
              " \n",
              " \n",
              " \n",
              " \n",
              " \n",
              " \n",
              " \n",
              "   \n",
              "   \n",
              "     <span>Battery is absolutely disgusting as a flagship phone</span>\n",
              "   \n",
              " </span>,\n",
              " <span class=\"a-size-base review-text review-text-content\" data-hook=\"review-body\">\n",
              " \n",
              " \n",
              " \n",
              " \n",
              " \n",
              " \n",
              " \n",
              "   \n",
              "   \n",
              "     <span>Except Heating everything is upto the mark as any flagship phone offers. It gives massive competition to iphone13 pro at very good price difference.</span>\n",
              "   \n",
              " </span>,\n",
              " <span class=\"a-size-base review-text review-text-content\" data-hook=\"review-body\">\n",
              " \n",
              " \n",
              " \n",
              " \n",
              " \n",
              " \n",
              " \n",
              "   \n",
              "   \n",
              "     <span>This is clearly a winner in most categories and ticks most of the boxes that one would expect from a flagship.<br/>The form factor is definitely the highlight. It's ergonomic and comfortable to use.<br/>The UI has evolved and definitely become one of the best in terms of functionality and oh !! boy that DISPLAY!!!<br/>There is no competition to Samsung in the Android mkt there .<br/>The camera 📸 is definitely worthy of the hype.<br/>Having said that ,the software does glitch and stutter every now and then ( even after the latest OUI 5.0 and A v13 update).<br/>But the biggest concern that Samsung really needs to adress and work on very seriously is the battery dpt.<br/>It's inadequate and poor for the catagory it's in and  price you are paying  . Work on some new battery technology, faster charging speed  or software mgmt that can make it last for at least 12-14 hrs without having to compromise on the functionality.<br/>The handset does get warm ( particularly on the top left corner and back side ) but nothing major.<br/><br/>PS : Samsung can definitely add the travel charger with the box, you don't have to blindly copy your competitor,ya know .</span>\n",
              "   \n",
              " </span>,\n",
              " <span class=\"a-size-base review-text review-text-content\" data-hook=\"review-body\">\n",
              " \n",
              " \n",
              " \n",
              " \n",
              " \n",
              " \n",
              " \n",
              "   \n",
              "   \n",
              "     <span>The phone is awsome but has a low battery backup and this is the only con.</span>\n",
              "   \n",
              " </span>,\n",
              " <span class=\"a-size-base review-text review-text-content\" data-hook=\"review-body\">\n",
              " \n",
              " \n",
              " \n",
              " \n",
              " \n",
              " \n",
              " \n",
              "   \n",
              "   \n",
              "     <span>Everything in this phone is great. Except the battery backup. I have never seen a flagship phone with this kind of battery performance. Its the only con in this phone you have to charge almost 2 times a day and trust me i am a very light user. If you can compromise in the battery section then rest things are very good. If battery is your concern then go for s22 plus.</span>\n",
              "   \n",
              " </span>,\n",
              " <span class=\"a-size-base review-text review-text-content\" data-hook=\"review-body\">\n",
              " \n",
              " \n",
              " \n",
              " \n",
              " \n",
              " \n",
              " \n",
              "   \n",
              "   \n",
              "     <span>Best display, great camera, performance, average battery life.<br/>Overall 8/10<br/>Got a minor defect on my phone<br/>The power button is slightly rocking which doesn't feel good , but u can avoid using it by enabling double tap to wake and lock gesture.<br/>Very poor delivery service<br/>Ordered phone on 25th nov received on 6th dec while i ordered charger from a different site on 27th and received it on 2nd dec , while both the product were shipped from the same place</span>\n",
              "   \n",
              " </span>,\n",
              " <span class=\"a-size-base review-text review-text-content\" data-hook=\"review-body\">\n",
              " \n",
              " \n",
              " \n",
              " \n",
              " \n",
              " \n",
              " \n",
              "   \n",
              "   \n",
              "     <span>I bought it for 50k with 12 months no Cost EMI which is basically the best deal of this season. The reason I chose S22 is because it is handy and fits in the pocket.<br/><br/>First thing first. battery life is a bit low. But it is working well for me as I don't play games or extensively social media. Also, the phone heats up a lot in doing anything processor extensive task.<br/><br/>The screen quality is amazing and dark mode enhances the experience and battery life as well. LOL. The new One UI 5 further bought some usable features and the overall software experience is really good.<br/><br/>Camera quality is great as it features flagship-level tech. Telephoto lens is another hot shot.</span>\n",
              "   \n",
              " </span>,\n",
              " <span class=\"a-size-base review-text review-text-content\" data-hook=\"review-body\"><div class=\"a-section a-spacing-small a-spacing-top-mini video-block\" id=\"video-block-R3GJ0F82MHBOLR\">\n",
              " \n",
              " \n",
              " \n",
              " \n",
              " \n",
              " \n",
              " \n",
              " \n",
              " \n",
              " \n",
              " \n",
              " \n",
              " \n",
              " \n",
              " \n",
              " \n",
              " \n",
              " \n",
              "     \n",
              "         \n",
              " \n",
              "         \n",
              "         \n",
              "             \n",
              "         \n",
              " \n",
              "         \n",
              "             \n",
              "                 <div class=\"cr-video-desktop cr-video-desktop-placeholder\" data-closed-captions=\"en,https://m.media-amazon.com/images/S/vse-vms-closed-captions-artifact-eu-west-1-prod/closedCaptions/b5ed7e49-c51b-468a-ad04-8b055f80f0fa.vtt\" data-review-id=\"R3GJ0F82MHBOLR\" data-thumbnail-url=\"https://m.media-amazon.com/images/W/IMAGERENDERING_521856-T1/images/I/91y90isQY9L._SY256._SY256.jpg\" data-video-url=\"https://m.media-amazon.com/images/S/vse-vms-transcoding-artifact-eu-west-1-prod/f152bb63-d5b2-484b-ab66-197ec5e483aa/default.jobtemplate.hls.m3u8\" id=\"review-video-id-R3GJ0F82MHBOLR\">\n",
              "                         <div class=\"cr-media-status-container\">\n",
              "                 <span class=\"a-spinner a-spinner-medium cr-media-spinner\"></span>\n",
              "                 <span class=\"a-color-inverse cr-media-error-msg\">\n",
              "                     The media could not be loaded.\n",
              "                 </span>\n",
              "             </div>\n",
              "                 </div>\n",
              "             \n",
              "             \n",
              "         \n",
              "     \n",
              "     \n",
              " </div><input class=\"video-url\" name=\"\" type=\"hidden\" value=\"https://m.media-amazon.com/images/S/vse-vms-transcoding-artifact-eu-west-1-prod/f152bb63-d5b2-484b-ab66-197ec5e483aa/default.jobtemplate.mp4.480.mp4\"/><input class=\"video-slate-img-url\" name=\"\" type=\"hidden\" value=\"https://m.media-amazon.com/images/W/IMAGERENDERING_521856-T1/images/I/91y90isQY9L._SY256._SY256.jpg\"/>\n",
              " \n",
              " \n",
              " \n",
              " \n",
              " \n",
              " \n",
              " \n",
              "   \n",
              "   \n",
              "     <span> Outstanding display<br/>Good battery<br/>and its a handy one</span>\n",
              "   \n",
              " </span>]"
            ]
          },
          "metadata": {},
          "execution_count": 137
        }
      ]
    },
    {
      "cell_type": "code",
      "source": [
        "review_content = []\n",
        "for i in range(0,len(review)):\n",
        "    review_content.append(review[i].get_text())\n",
        "review_content"
      ],
      "metadata": {
        "colab": {
          "base_uri": "https://localhost:8080/"
        },
        "id": "vuDhMWRaklMh",
        "outputId": "12f8e031-d8c0-4121-c9fe-1e7945617577"
      },
      "execution_count": 138,
      "outputs": [
        {
          "output_type": "execute_result",
          "data": {
            "text/plain": [
              "['\\n\\n\\n\\n\\n\\n\\n\\n  \\n  \\n    Camera quality is very good; battery life is very poor.\\n  \\n',\n",
              " \"\\n\\n\\n\\n\\n\\n\\n\\n\\n\\n\\n\\n\\n\\n\\n\\n\\n\\n\\n    \\n        \\n\\n        \\n        \\n            \\n        \\n\\n        \\n            \\n                \\n                        \\n                \\n                \\n                    The media could not be loaded.\\n                \\n            \\n                \\n            \\n            \\n        \\n    \\n    \\n\\n\\n\\n\\n\\n\\n\\n\\n  \\n  \\n    \\xa0I bought this phone in sale in October-22, mainly for camera & it's compactness. It's camera & especially night camera performance is of top notch, similar to iphone 13. I have uploaded the samples. All three cameras & front cam has night mode. OIS is great & works at FHD 30/60 Fps on main & ultra wide cam. You can shoot from 720p to 8k in various cameras. Portrait pics come awesome in all cameras. Colour reproduction is very natural.Performance wise it's a good phone but SD 8 Gen1 still lags behind apple's Bionic A15 in numbers. Well you have to shell out additional 15k for iphone 13.One thing that Samsung is still lagging behind many brands is bettery performance. I'm not a gamer, but on regular screen time this phone gives ~5 hrs continuous & 5-8 hours intermittent usage depends on how you use it. 'Always-on-display' reduce battery life. Samsung has provided app sleep system for reducing battery drain by background app, which works great.Charger that I use is of PD 3.0 standard by Dr. Vaku, which work great. Still take one hour (15 to 85 %) to juice-up.In-display Fingerprint sensor here is ultrasonic, which does not work easily with tempered glass based screen protector. One has to press little harder. Dirty & dry fingers are of no use. 4 out of 5 times I have to use passcode. But face unlock is very faster, so I use it.Android 13 & UI-5 is awesome. Many features like popup & multi screens etc can be used at a time without any lag. Once I played Asphalt 9 Legends, game went on smoothly on Auto settings. Minor temperature rise observed.February 2023 update : Now since 5G is available in my area, I tried jio 5g (SA 3700 Mhz spectrum) and speeds are astonishing, in 500+ Mbps.Verdict : Go for it if you are looking for compact flagship camera phone in 50k range.\\n  \\n\",\n",
              " '\\n\\n\\n\\n\\n\\n\\n\\n  \\n  \\n    Battery is absolutely disgusting as a flagship phone\\n  \\n',\n",
              " '\\n\\n\\n\\n\\n\\n\\n\\n  \\n  \\n    Except Heating everything is upto the mark as any flagship phone offers. It gives massive competition to iphone13 pro at very good price difference.\\n  \\n',\n",
              " \"\\n\\n\\n\\n\\n\\n\\n\\n  \\n  \\n    This is clearly a winner in most categories and ticks most of the boxes that one would expect from a flagship.The form factor is definitely the highlight. It's ergonomic and comfortable to use.The UI has evolved and definitely become one of the best in terms of functionality and oh !! boy that DISPLAY!!!There is no competition to Samsung in the Android mkt there .The camera 📸 is definitely worthy of the hype.Having said that ,the software does glitch and stutter every now and then ( even after the latest OUI 5.0 and A v13 update).But the biggest concern that Samsung really needs to adress and work on very seriously is the battery dpt.It's inadequate and poor for the catagory it's in and  price you are paying  . Work on some new battery technology, faster charging speed  or software mgmt that can make it last for at least 12-14 hrs without having to compromise on the functionality.The handset does get warm ( particularly on the top left corner and back side ) but nothing major.PS : Samsung can definitely add the travel charger with the box, you don't have to blindly copy your competitor,ya know .\\n  \\n\",\n",
              " '\\n\\n\\n\\n\\n\\n\\n\\n  \\n  \\n    The phone is awsome but has a low battery backup and this is the only con.\\n  \\n',\n",
              " '\\n\\n\\n\\n\\n\\n\\n\\n  \\n  \\n    Everything in this phone is great. Except the battery backup. I have never seen a flagship phone with this kind of battery performance. Its the only con in this phone you have to charge almost 2 times a day and trust me i am a very light user. If you can compromise in the battery section then rest things are very good. If battery is your concern then go for s22 plus.\\n  \\n',\n",
              " \"\\n\\n\\n\\n\\n\\n\\n\\n  \\n  \\n    Best display, great camera, performance, average battery life.Overall 8/10Got a minor defect on my phoneThe power button is slightly rocking which doesn't feel good , but u can avoid using it by enabling double tap to wake and lock gesture.Very poor delivery serviceOrdered phone on 25th nov received on 6th dec while i ordered charger from a different site on 27th and received it on 2nd dec , while both the product were shipped from the same place\\n  \\n\",\n",
              " \"\\n\\n\\n\\n\\n\\n\\n\\n  \\n  \\n    I bought it for 50k with 12 months no Cost EMI which is basically the best deal of this season. The reason I chose S22 is because it is handy and fits in the pocket.First thing first. battery life is a bit low. But it is working well for me as I don't play games or extensively social media. Also, the phone heats up a lot in doing anything processor extensive task.The screen quality is amazing and dark mode enhances the experience and battery life as well. LOL. The new One UI 5 further bought some usable features and the overall software experience is really good.Camera quality is great as it features flagship-level tech. Telephoto lens is another hot shot.\\n  \\n\",\n",
              " '\\n\\n\\n\\n\\n\\n\\n\\n\\n\\n\\n\\n\\n\\n\\n\\n\\n\\n\\n    \\n        \\n\\n        \\n        \\n            \\n        \\n\\n        \\n            \\n                \\n                        \\n                \\n                \\n                    The media could not be loaded.\\n                \\n            \\n                \\n            \\n            \\n        \\n    \\n    \\n\\n\\n\\n\\n\\n\\n\\n\\n  \\n  \\n    \\xa0Outstanding displayGood batteryand its a handy one\\n  \\n']"
            ]
          },
          "metadata": {},
          "execution_count": 138
        }
      ]
    },
    {
      "cell_type": "code",
      "source": [
        "review_content[:] = [reviews.lstrip('\\n') for reviews in review_content]\n",
        "review_content"
      ],
      "metadata": {
        "colab": {
          "base_uri": "https://localhost:8080/"
        },
        "id": "yPtk51oSkp0Z",
        "outputId": "737db087-edaf-45bd-b701-f76e72ff8c72"
      },
      "execution_count": 139,
      "outputs": [
        {
          "output_type": "execute_result",
          "data": {
            "text/plain": [
              "['  \\n  \\n    Camera quality is very good; battery life is very poor.\\n  \\n',\n",
              " \"    \\n        \\n\\n        \\n        \\n            \\n        \\n\\n        \\n            \\n                \\n                        \\n                \\n                \\n                    The media could not be loaded.\\n                \\n            \\n                \\n            \\n            \\n        \\n    \\n    \\n\\n\\n\\n\\n\\n\\n\\n\\n  \\n  \\n    \\xa0I bought this phone in sale in October-22, mainly for camera & it's compactness. It's camera & especially night camera performance is of top notch, similar to iphone 13. I have uploaded the samples. All three cameras & front cam has night mode. OIS is great & works at FHD 30/60 Fps on main & ultra wide cam. You can shoot from 720p to 8k in various cameras. Portrait pics come awesome in all cameras. Colour reproduction is very natural.Performance wise it's a good phone but SD 8 Gen1 still lags behind apple's Bionic A15 in numbers. Well you have to shell out additional 15k for iphone 13.One thing that Samsung is still lagging behind many brands is bettery performance. I'm not a gamer, but on regular screen time this phone gives ~5 hrs continuous & 5-8 hours intermittent usage depends on how you use it. 'Always-on-display' reduce battery life. Samsung has provided app sleep system for reducing battery drain by background app, which works great.Charger that I use is of PD 3.0 standard by Dr. Vaku, which work great. Still take one hour (15 to 85 %) to juice-up.In-display Fingerprint sensor here is ultrasonic, which does not work easily with tempered glass based screen protector. One has to press little harder. Dirty & dry fingers are of no use. 4 out of 5 times I have to use passcode. But face unlock is very faster, so I use it.Android 13 & UI-5 is awesome. Many features like popup & multi screens etc can be used at a time without any lag. Once I played Asphalt 9 Legends, game went on smoothly on Auto settings. Minor temperature rise observed.February 2023 update : Now since 5G is available in my area, I tried jio 5g (SA 3700 Mhz spectrum) and speeds are astonishing, in 500+ Mbps.Verdict : Go for it if you are looking for compact flagship camera phone in 50k range.\\n  \\n\",\n",
              " '  \\n  \\n    Battery is absolutely disgusting as a flagship phone\\n  \\n',\n",
              " '  \\n  \\n    Except Heating everything is upto the mark as any flagship phone offers. It gives massive competition to iphone13 pro at very good price difference.\\n  \\n',\n",
              " \"  \\n  \\n    This is clearly a winner in most categories and ticks most of the boxes that one would expect from a flagship.The form factor is definitely the highlight. It's ergonomic and comfortable to use.The UI has evolved and definitely become one of the best in terms of functionality and oh !! boy that DISPLAY!!!There is no competition to Samsung in the Android mkt there .The camera 📸 is definitely worthy of the hype.Having said that ,the software does glitch and stutter every now and then ( even after the latest OUI 5.0 and A v13 update).But the biggest concern that Samsung really needs to adress and work on very seriously is the battery dpt.It's inadequate and poor for the catagory it's in and  price you are paying  . Work on some new battery technology, faster charging speed  or software mgmt that can make it last for at least 12-14 hrs without having to compromise on the functionality.The handset does get warm ( particularly on the top left corner and back side ) but nothing major.PS : Samsung can definitely add the travel charger with the box, you don't have to blindly copy your competitor,ya know .\\n  \\n\",\n",
              " '  \\n  \\n    The phone is awsome but has a low battery backup and this is the only con.\\n  \\n',\n",
              " '  \\n  \\n    Everything in this phone is great. Except the battery backup. I have never seen a flagship phone with this kind of battery performance. Its the only con in this phone you have to charge almost 2 times a day and trust me i am a very light user. If you can compromise in the battery section then rest things are very good. If battery is your concern then go for s22 plus.\\n  \\n',\n",
              " \"  \\n  \\n    Best display, great camera, performance, average battery life.Overall 8/10Got a minor defect on my phoneThe power button is slightly rocking which doesn't feel good , but u can avoid using it by enabling double tap to wake and lock gesture.Very poor delivery serviceOrdered phone on 25th nov received on 6th dec while i ordered charger from a different site on 27th and received it on 2nd dec , while both the product were shipped from the same place\\n  \\n\",\n",
              " \"  \\n  \\n    I bought it for 50k with 12 months no Cost EMI which is basically the best deal of this season. The reason I chose S22 is because it is handy and fits in the pocket.First thing first. battery life is a bit low. But it is working well for me as I don't play games or extensively social media. Also, the phone heats up a lot in doing anything processor extensive task.The screen quality is amazing and dark mode enhances the experience and battery life as well. LOL. The new One UI 5 further bought some usable features and the overall software experience is really good.Camera quality is great as it features flagship-level tech. Telephoto lens is another hot shot.\\n  \\n\",\n",
              " '    \\n        \\n\\n        \\n        \\n            \\n        \\n\\n        \\n            \\n                \\n                        \\n                \\n                \\n                    The media could not be loaded.\\n                \\n            \\n                \\n            \\n            \\n        \\n    \\n    \\n\\n\\n\\n\\n\\n\\n\\n\\n  \\n  \\n    \\xa0Outstanding displayGood batteryand its a handy one\\n  \\n']"
            ]
          },
          "metadata": {},
          "execution_count": 139
        }
      ]
    },
    {
      "cell_type": "code",
      "source": [
        "review_content[:] = [reviews.rstrip('\\n') for reviews in review_content]\n",
        "review_content"
      ],
      "metadata": {
        "colab": {
          "base_uri": "https://localhost:8080/"
        },
        "id": "vcIPrNTqktK2",
        "outputId": "dc2bb937-320a-44f1-927c-1d58476cf588"
      },
      "execution_count": 140,
      "outputs": [
        {
          "output_type": "execute_result",
          "data": {
            "text/plain": [
              "['  \\n  \\n    Camera quality is very good; battery life is very poor.\\n  ',\n",
              " \"    \\n        \\n\\n        \\n        \\n            \\n        \\n\\n        \\n            \\n                \\n                        \\n                \\n                \\n                    The media could not be loaded.\\n                \\n            \\n                \\n            \\n            \\n        \\n    \\n    \\n\\n\\n\\n\\n\\n\\n\\n\\n  \\n  \\n    \\xa0I bought this phone in sale in October-22, mainly for camera & it's compactness. It's camera & especially night camera performance is of top notch, similar to iphone 13. I have uploaded the samples. All three cameras & front cam has night mode. OIS is great & works at FHD 30/60 Fps on main & ultra wide cam. You can shoot from 720p to 8k in various cameras. Portrait pics come awesome in all cameras. Colour reproduction is very natural.Performance wise it's a good phone but SD 8 Gen1 still lags behind apple's Bionic A15 in numbers. Well you have to shell out additional 15k for iphone 13.One thing that Samsung is still lagging behind many brands is bettery performance. I'm not a gamer, but on regular screen time this phone gives ~5 hrs continuous & 5-8 hours intermittent usage depends on how you use it. 'Always-on-display' reduce battery life. Samsung has provided app sleep system for reducing battery drain by background app, which works great.Charger that I use is of PD 3.0 standard by Dr. Vaku, which work great. Still take one hour (15 to 85 %) to juice-up.In-display Fingerprint sensor here is ultrasonic, which does not work easily with tempered glass based screen protector. One has to press little harder. Dirty & dry fingers are of no use. 4 out of 5 times I have to use passcode. But face unlock is very faster, so I use it.Android 13 & UI-5 is awesome. Many features like popup & multi screens etc can be used at a time without any lag. Once I played Asphalt 9 Legends, game went on smoothly on Auto settings. Minor temperature rise observed.February 2023 update : Now since 5G is available in my area, I tried jio 5g (SA 3700 Mhz spectrum) and speeds are astonishing, in 500+ Mbps.Verdict : Go for it if you are looking for compact flagship camera phone in 50k range.\\n  \",\n",
              " '  \\n  \\n    Battery is absolutely disgusting as a flagship phone\\n  ',\n",
              " '  \\n  \\n    Except Heating everything is upto the mark as any flagship phone offers. It gives massive competition to iphone13 pro at very good price difference.\\n  ',\n",
              " \"  \\n  \\n    This is clearly a winner in most categories and ticks most of the boxes that one would expect from a flagship.The form factor is definitely the highlight. It's ergonomic and comfortable to use.The UI has evolved and definitely become one of the best in terms of functionality and oh !! boy that DISPLAY!!!There is no competition to Samsung in the Android mkt there .The camera 📸 is definitely worthy of the hype.Having said that ,the software does glitch and stutter every now and then ( even after the latest OUI 5.0 and A v13 update).But the biggest concern that Samsung really needs to adress and work on very seriously is the battery dpt.It's inadequate and poor for the catagory it's in and  price you are paying  . Work on some new battery technology, faster charging speed  or software mgmt that can make it last for at least 12-14 hrs without having to compromise on the functionality.The handset does get warm ( particularly on the top left corner and back side ) but nothing major.PS : Samsung can definitely add the travel charger with the box, you don't have to blindly copy your competitor,ya know .\\n  \",\n",
              " '  \\n  \\n    The phone is awsome but has a low battery backup and this is the only con.\\n  ',\n",
              " '  \\n  \\n    Everything in this phone is great. Except the battery backup. I have never seen a flagship phone with this kind of battery performance. Its the only con in this phone you have to charge almost 2 times a day and trust me i am a very light user. If you can compromise in the battery section then rest things are very good. If battery is your concern then go for s22 plus.\\n  ',\n",
              " \"  \\n  \\n    Best display, great camera, performance, average battery life.Overall 8/10Got a minor defect on my phoneThe power button is slightly rocking which doesn't feel good , but u can avoid using it by enabling double tap to wake and lock gesture.Very poor delivery serviceOrdered phone on 25th nov received on 6th dec while i ordered charger from a different site on 27th and received it on 2nd dec , while both the product were shipped from the same place\\n  \",\n",
              " \"  \\n  \\n    I bought it for 50k with 12 months no Cost EMI which is basically the best deal of this season. The reason I chose S22 is because it is handy and fits in the pocket.First thing first. battery life is a bit low. But it is working well for me as I don't play games or extensively social media. Also, the phone heats up a lot in doing anything processor extensive task.The screen quality is amazing and dark mode enhances the experience and battery life as well. LOL. The new One UI 5 further bought some usable features and the overall software experience is really good.Camera quality is great as it features flagship-level tech. Telephoto lens is another hot shot.\\n  \",\n",
              " '    \\n        \\n\\n        \\n        \\n            \\n        \\n\\n        \\n            \\n                \\n                        \\n                \\n                \\n                    The media could not be loaded.\\n                \\n            \\n                \\n            \\n            \\n        \\n    \\n    \\n\\n\\n\\n\\n\\n\\n\\n\\n  \\n  \\n    \\xa0Outstanding displayGood batteryand its a handy one\\n  ']"
            ]
          },
          "metadata": {},
          "execution_count": 140
        }
      ]
    },
    {
      "cell_type": "code",
      "source": [
        "import pandas as pd\n",
        "Amazon_reviews = pd.DataFrame()"
      ],
      "metadata": {
        "id": "FsxAQ3-fkwNm"
      },
      "execution_count": 141,
      "outputs": []
    },
    {
      "cell_type": "code",
      "source": [
        "len(costumer_name)"
      ],
      "metadata": {
        "colab": {
          "base_uri": "https://localhost:8080/"
        },
        "id": "E3RSk0X2np-n",
        "outputId": "f4d359ee-c68a-4d03-de41-744f8ba86c12"
      },
      "execution_count": 148,
      "outputs": [
        {
          "output_type": "execute_result",
          "data": {
            "text/plain": [
              "10"
            ]
          },
          "metadata": {},
          "execution_count": 148
        }
      ]
    },
    {
      "cell_type": "code",
      "source": [
        "len(rate)"
      ],
      "metadata": {
        "colab": {
          "base_uri": "https://localhost:8080/"
        },
        "id": "ThDdRfDRn1gR",
        "outputId": "2ce86936-2f08-4098-8904-f4288900dd95"
      },
      "execution_count": 143,
      "outputs": [
        {
          "output_type": "execute_result",
          "data": {
            "text/plain": [
              "10"
            ]
          },
          "metadata": {},
          "execution_count": 143
        }
      ]
    },
    {
      "cell_type": "code",
      "source": [
        "len(review_content)"
      ],
      "metadata": {
        "colab": {
          "base_uri": "https://localhost:8080/"
        },
        "id": "0zeksPpuoF18",
        "outputId": "c0e2f585-a15c-40ce-ff6e-38ff2a72cbc3"
      },
      "execution_count": 144,
      "outputs": [
        {
          "output_type": "execute_result",
          "data": {
            "text/plain": [
              "10"
            ]
          },
          "metadata": {},
          "execution_count": 144
        }
      ]
    },
    {
      "cell_type": "code",
      "source": [
        "len(review_titles)"
      ],
      "metadata": {
        "colab": {
          "base_uri": "https://localhost:8080/"
        },
        "id": "lvVQQgZsnL95",
        "outputId": "66b712ad-115b-4918-c5ec-3c7e04a96f43"
      },
      "execution_count": 145,
      "outputs": [
        {
          "output_type": "execute_result",
          "data": {
            "text/plain": [
              "10"
            ]
          },
          "metadata": {},
          "execution_count": 145
        }
      ]
    },
    {
      "cell_type": "code",
      "source": [
        "Amazon_reviews['Customer Name'] = costumer_name\n",
        "Amazon_reviews['Ratings'] = rate\n",
        "Amazon_reviews['Review titles'] = review_titles\n",
        "Amazon_reviews['Reviev content'] = review_content\n",
        "Amazon_reviews"
      ],
      "metadata": {
        "colab": {
          "base_uri": "https://localhost:8080/",
          "height": 363
        },
        "id": "yJKqjs15k0a_",
        "outputId": "4425052c-7fd2-4513-a2d4-971276e49693"
      },
      "execution_count": 149,
      "outputs": [
        {
          "output_type": "execute_result",
          "data": {
            "text/plain": [
              "    Customer Name             Ratings  \\\n",
              "0   Antony Joseph  4.0 out of 5 stars   \n",
              "1        Abhishek  4.0 out of 5 stars   \n",
              "2   Antony Joseph  4.0 out of 5 stars   \n",
              "3          Sarang  5.0 out of 5 stars   \n",
              "4          Sarang  4.0 out of 5 stars   \n",
              "5  Shibasish Saha  4.0 out of 5 stars   \n",
              "6   Hritwick jain  4.0 out of 5 stars   \n",
              "7           Rahul  4.0 out of 5 stars   \n",
              "8           Rahul  4.0 out of 5 stars   \n",
              "9           Manik  4.0 out of 5 stars   \n",
              "\n",
              "                                       Review titles  \\\n",
              "0              \\n  \\n    Good except for battery\\n     \n",
              "1    \\n  \\n    Camera Flagship that need battery ...   \n",
              "2                   \\n  \\n    Overall 3 out of 5\\n     \n",
              "3                            \\n  \\n    S22>13pro\\n     \n",
              "4                      \\n  \\n    Little champ !!\\n     \n",
              "5    \\n  \\n    Superb phone but a little low batt...   \n",
              "6    \\n  \\n    Worst battery but still better tha...   \n",
              "7    \\n  \\n    Great Phone ( Not for gaming thoug...   \n",
              "8              \\n  \\n    Handy and Lighting Fast\\n     \n",
              "9                              \\n  \\n    WOWWWWW\\n     \n",
              "\n",
              "                                      Reviev content  \n",
              "0    \\n  \\n    Camera quality is very good; batte...  \n",
              "1      \\n        \\n\\n        \\n        \\n        ...  \n",
              "2    \\n  \\n    Battery is absolutely disgusting a...  \n",
              "3    \\n  \\n    Except Heating everything is upto ...  \n",
              "4    \\n  \\n    This is clearly a winner in most c...  \n",
              "5    \\n  \\n    The phone is awsome but has a low ...  \n",
              "6    \\n  \\n    Everything in this phone is great....  \n",
              "7    \\n  \\n    Best display, great camera, perfor...  \n",
              "8    \\n  \\n    I bought it for 50k with 12 months...  \n",
              "9      \\n        \\n\\n        \\n        \\n        ...  "
            ],
            "text/html": [
              "\n",
              "  <div id=\"df-26a210bf-5687-4443-995f-07400ff99f4b\">\n",
              "    <div class=\"colab-df-container\">\n",
              "      <div>\n",
              "<style scoped>\n",
              "    .dataframe tbody tr th:only-of-type {\n",
              "        vertical-align: middle;\n",
              "    }\n",
              "\n",
              "    .dataframe tbody tr th {\n",
              "        vertical-align: top;\n",
              "    }\n",
              "\n",
              "    .dataframe thead th {\n",
              "        text-align: right;\n",
              "    }\n",
              "</style>\n",
              "<table border=\"1\" class=\"dataframe\">\n",
              "  <thead>\n",
              "    <tr style=\"text-align: right;\">\n",
              "      <th></th>\n",
              "      <th>Customer Name</th>\n",
              "      <th>Ratings</th>\n",
              "      <th>Review titles</th>\n",
              "      <th>Reviev content</th>\n",
              "    </tr>\n",
              "  </thead>\n",
              "  <tbody>\n",
              "    <tr>\n",
              "      <th>0</th>\n",
              "      <td>Antony Joseph</td>\n",
              "      <td>4.0 out of 5 stars</td>\n",
              "      <td>\\n  \\n    Good except for battery\\n</td>\n",
              "      <td>\\n  \\n    Camera quality is very good; batte...</td>\n",
              "    </tr>\n",
              "    <tr>\n",
              "      <th>1</th>\n",
              "      <td>Abhishek</td>\n",
              "      <td>4.0 out of 5 stars</td>\n",
              "      <td>\\n  \\n    Camera Flagship that need battery ...</td>\n",
              "      <td>\\n        \\n\\n        \\n        \\n        ...</td>\n",
              "    </tr>\n",
              "    <tr>\n",
              "      <th>2</th>\n",
              "      <td>Antony Joseph</td>\n",
              "      <td>4.0 out of 5 stars</td>\n",
              "      <td>\\n  \\n    Overall 3 out of 5\\n</td>\n",
              "      <td>\\n  \\n    Battery is absolutely disgusting a...</td>\n",
              "    </tr>\n",
              "    <tr>\n",
              "      <th>3</th>\n",
              "      <td>Sarang</td>\n",
              "      <td>5.0 out of 5 stars</td>\n",
              "      <td>\\n  \\n    S22&gt;13pro\\n</td>\n",
              "      <td>\\n  \\n    Except Heating everything is upto ...</td>\n",
              "    </tr>\n",
              "    <tr>\n",
              "      <th>4</th>\n",
              "      <td>Sarang</td>\n",
              "      <td>4.0 out of 5 stars</td>\n",
              "      <td>\\n  \\n    Little champ !!\\n</td>\n",
              "      <td>\\n  \\n    This is clearly a winner in most c...</td>\n",
              "    </tr>\n",
              "    <tr>\n",
              "      <th>5</th>\n",
              "      <td>Shibasish Saha</td>\n",
              "      <td>4.0 out of 5 stars</td>\n",
              "      <td>\\n  \\n    Superb phone but a little low batt...</td>\n",
              "      <td>\\n  \\n    The phone is awsome but has a low ...</td>\n",
              "    </tr>\n",
              "    <tr>\n",
              "      <th>6</th>\n",
              "      <td>Hritwick jain</td>\n",
              "      <td>4.0 out of 5 stars</td>\n",
              "      <td>\\n  \\n    Worst battery but still better tha...</td>\n",
              "      <td>\\n  \\n    Everything in this phone is great....</td>\n",
              "    </tr>\n",
              "    <tr>\n",
              "      <th>7</th>\n",
              "      <td>Rahul</td>\n",
              "      <td>4.0 out of 5 stars</td>\n",
              "      <td>\\n  \\n    Great Phone ( Not for gaming thoug...</td>\n",
              "      <td>\\n  \\n    Best display, great camera, perfor...</td>\n",
              "    </tr>\n",
              "    <tr>\n",
              "      <th>8</th>\n",
              "      <td>Rahul</td>\n",
              "      <td>4.0 out of 5 stars</td>\n",
              "      <td>\\n  \\n    Handy and Lighting Fast\\n</td>\n",
              "      <td>\\n  \\n    I bought it for 50k with 12 months...</td>\n",
              "    </tr>\n",
              "    <tr>\n",
              "      <th>9</th>\n",
              "      <td>Manik</td>\n",
              "      <td>4.0 out of 5 stars</td>\n",
              "      <td>\\n  \\n    WOWWWWW\\n</td>\n",
              "      <td>\\n        \\n\\n        \\n        \\n        ...</td>\n",
              "    </tr>\n",
              "  </tbody>\n",
              "</table>\n",
              "</div>\n",
              "      <button class=\"colab-df-convert\" onclick=\"convertToInteractive('df-26a210bf-5687-4443-995f-07400ff99f4b')\"\n",
              "              title=\"Convert this dataframe to an interactive table.\"\n",
              "              style=\"display:none;\">\n",
              "        \n",
              "  <svg xmlns=\"http://www.w3.org/2000/svg\" height=\"24px\"viewBox=\"0 0 24 24\"\n",
              "       width=\"24px\">\n",
              "    <path d=\"M0 0h24v24H0V0z\" fill=\"none\"/>\n",
              "    <path d=\"M18.56 5.44l.94 2.06.94-2.06 2.06-.94-2.06-.94-.94-2.06-.94 2.06-2.06.94zm-11 1L8.5 8.5l.94-2.06 2.06-.94-2.06-.94L8.5 2.5l-.94 2.06-2.06.94zm10 10l.94 2.06.94-2.06 2.06-.94-2.06-.94-.94-2.06-.94 2.06-2.06.94z\"/><path d=\"M17.41 7.96l-1.37-1.37c-.4-.4-.92-.59-1.43-.59-.52 0-1.04.2-1.43.59L10.3 9.45l-7.72 7.72c-.78.78-.78 2.05 0 2.83L4 21.41c.39.39.9.59 1.41.59.51 0 1.02-.2 1.41-.59l7.78-7.78 2.81-2.81c.8-.78.8-2.07 0-2.86zM5.41 20L4 18.59l7.72-7.72 1.47 1.35L5.41 20z\"/>\n",
              "  </svg>\n",
              "      </button>\n",
              "      \n",
              "  <style>\n",
              "    .colab-df-container {\n",
              "      display:flex;\n",
              "      flex-wrap:wrap;\n",
              "      gap: 12px;\n",
              "    }\n",
              "\n",
              "    .colab-df-convert {\n",
              "      background-color: #E8F0FE;\n",
              "      border: none;\n",
              "      border-radius: 50%;\n",
              "      cursor: pointer;\n",
              "      display: none;\n",
              "      fill: #1967D2;\n",
              "      height: 32px;\n",
              "      padding: 0 0 0 0;\n",
              "      width: 32px;\n",
              "    }\n",
              "\n",
              "    .colab-df-convert:hover {\n",
              "      background-color: #E2EBFA;\n",
              "      box-shadow: 0px 1px 2px rgba(60, 64, 67, 0.3), 0px 1px 3px 1px rgba(60, 64, 67, 0.15);\n",
              "      fill: #174EA6;\n",
              "    }\n",
              "\n",
              "    [theme=dark] .colab-df-convert {\n",
              "      background-color: #3B4455;\n",
              "      fill: #D2E3FC;\n",
              "    }\n",
              "\n",
              "    [theme=dark] .colab-df-convert:hover {\n",
              "      background-color: #434B5C;\n",
              "      box-shadow: 0px 1px 3px 1px rgba(0, 0, 0, 0.15);\n",
              "      filter: drop-shadow(0px 1px 2px rgba(0, 0, 0, 0.3));\n",
              "      fill: #FFFFFF;\n",
              "    }\n",
              "  </style>\n",
              "\n",
              "      <script>\n",
              "        const buttonEl =\n",
              "          document.querySelector('#df-26a210bf-5687-4443-995f-07400ff99f4b button.colab-df-convert');\n",
              "        buttonEl.style.display =\n",
              "          google.colab.kernel.accessAllowed ? 'block' : 'none';\n",
              "\n",
              "        async function convertToInteractive(key) {\n",
              "          const element = document.querySelector('#df-26a210bf-5687-4443-995f-07400ff99f4b');\n",
              "          const dataTable =\n",
              "            await google.colab.kernel.invokeFunction('convertToInteractive',\n",
              "                                                     [key], {});\n",
              "          if (!dataTable) return;\n",
              "\n",
              "          const docLinkHtml = 'Like what you see? Visit the ' +\n",
              "            '<a target=\"_blank\" href=https://colab.research.google.com/notebooks/data_table.ipynb>data table notebook</a>'\n",
              "            + ' to learn more about interactive tables.';\n",
              "          element.innerHTML = '';\n",
              "          dataTable['output_type'] = 'display_data';\n",
              "          await google.colab.output.renderOutput(dataTable, element);\n",
              "          const docLink = document.createElement('div');\n",
              "          docLink.innerHTML = docLinkHtml;\n",
              "          element.appendChild(docLink);\n",
              "        }\n",
              "      </script>\n",
              "    </div>\n",
              "  </div>\n",
              "  "
            ]
          },
          "metadata": {},
          "execution_count": 149
        }
      ]
    },
    {
      "cell_type": "code",
      "source": [
        "# export dataset as an excel file\n",
        "Amazon_reviews.to_excel(\"Amazon_reviews_exported.xlsx\", index=False)"
      ],
      "metadata": {
        "id": "P6uzhyPwk2w4"
      },
      "execution_count": 147,
      "outputs": []
    },
    {
      "cell_type": "markdown",
      "source": [
        "# New Section"
      ],
      "metadata": {
        "id": "k6RAqru_furu"
      }
    }
  ]
}